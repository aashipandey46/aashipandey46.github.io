{
 "cells": [
  {
   "cell_type": "code",
   "execution_count": 1,
   "id": "d867fb52",
   "metadata": {},
   "outputs": [],
   "source": [
    "%matplotlib inline\n",
    "import matplotlib\n",
    "import matplotlib.pyplot as plt\n",
    "matplotlib.rcParams[\"font.family\"] = \"sans-serif\" \n",
    "import numpy as np\n",
    "import ipywidgets as widgets\n",
    "from ipywidgets import interactive\n",
    "import pandas as pd\n",
    "import bqplot\n",
    "import datetime as dt \n",
    "\n",
    "%matplotlib inline"
   ]
  },
  {
   "cell_type": "code",
   "execution_count": 2,
   "id": "74cf2022",
   "metadata": {},
   "outputs": [],
   "source": [
    "#reading the dataset\n",
    "udemy_data = pd.read_csv('udemy_courses.csv', \n",
    "                    dayfirst=True, sep=',')"
   ]
  },
  {
   "cell_type": "code",
   "execution_count": 3,
   "id": "5114b27b",
   "metadata": {},
   "outputs": [
    {
     "data": {
      "text/html": [
       "<div>\n",
       "<style scoped>\n",
       "    .dataframe tbody tr th:only-of-type {\n",
       "        vertical-align: middle;\n",
       "    }\n",
       "\n",
       "    .dataframe tbody tr th {\n",
       "        vertical-align: top;\n",
       "    }\n",
       "\n",
       "    .dataframe thead th {\n",
       "        text-align: right;\n",
       "    }\n",
       "</style>\n",
       "<table border=\"1\" class=\"dataframe\">\n",
       "  <thead>\n",
       "    <tr style=\"text-align: right;\">\n",
       "      <th></th>\n",
       "      <th>course_id</th>\n",
       "      <th>course_title</th>\n",
       "      <th>url</th>\n",
       "      <th>is_paid</th>\n",
       "      <th>price</th>\n",
       "      <th>num_subscribers</th>\n",
       "      <th>num_reviews</th>\n",
       "      <th>num_lectures</th>\n",
       "      <th>level</th>\n",
       "      <th>content_duration</th>\n",
       "      <th>published_timestamp</th>\n",
       "      <th>subject</th>\n",
       "    </tr>\n",
       "  </thead>\n",
       "  <tbody>\n",
       "    <tr>\n",
       "      <th>0</th>\n",
       "      <td>1070968</td>\n",
       "      <td>Ultimate Investment Banking Course</td>\n",
       "      <td>https://www.udemy.com/ultimate-investment-bank...</td>\n",
       "      <td>True</td>\n",
       "      <td>200</td>\n",
       "      <td>2147</td>\n",
       "      <td>23</td>\n",
       "      <td>51</td>\n",
       "      <td>All Levels</td>\n",
       "      <td>1.5</td>\n",
       "      <td>2017-01-18T20:58:58Z</td>\n",
       "      <td>Business Finance</td>\n",
       "    </tr>\n",
       "    <tr>\n",
       "      <th>1</th>\n",
       "      <td>1113822</td>\n",
       "      <td>Complete GST Course &amp; Certification - Grow You...</td>\n",
       "      <td>https://www.udemy.com/goods-and-services-tax/</td>\n",
       "      <td>True</td>\n",
       "      <td>75</td>\n",
       "      <td>2792</td>\n",
       "      <td>923</td>\n",
       "      <td>274</td>\n",
       "      <td>All Levels</td>\n",
       "      <td>39.0</td>\n",
       "      <td>2017-03-09T16:34:20Z</td>\n",
       "      <td>Business Finance</td>\n",
       "    </tr>\n",
       "    <tr>\n",
       "      <th>2</th>\n",
       "      <td>1006314</td>\n",
       "      <td>Financial Modeling for Business Analysts and C...</td>\n",
       "      <td>https://www.udemy.com/financial-modeling-for-b...</td>\n",
       "      <td>True</td>\n",
       "      <td>45</td>\n",
       "      <td>2174</td>\n",
       "      <td>74</td>\n",
       "      <td>51</td>\n",
       "      <td>Intermediate Level</td>\n",
       "      <td>2.5</td>\n",
       "      <td>2016-12-19T19:26:30Z</td>\n",
       "      <td>Business Finance</td>\n",
       "    </tr>\n",
       "    <tr>\n",
       "      <th>3</th>\n",
       "      <td>1210588</td>\n",
       "      <td>Beginner to Pro - Financial Analysis in Excel ...</td>\n",
       "      <td>https://www.udemy.com/complete-excel-finance-c...</td>\n",
       "      <td>True</td>\n",
       "      <td>95</td>\n",
       "      <td>2451</td>\n",
       "      <td>11</td>\n",
       "      <td>36</td>\n",
       "      <td>All Levels</td>\n",
       "      <td>3.0</td>\n",
       "      <td>2017-05-30T20:07:24Z</td>\n",
       "      <td>Business Finance</td>\n",
       "    </tr>\n",
       "    <tr>\n",
       "      <th>4</th>\n",
       "      <td>1011058</td>\n",
       "      <td>How To Maximize Your Profits Trading Options</td>\n",
       "      <td>https://www.udemy.com/how-to-maximize-your-pro...</td>\n",
       "      <td>True</td>\n",
       "      <td>200</td>\n",
       "      <td>1276</td>\n",
       "      <td>45</td>\n",
       "      <td>26</td>\n",
       "      <td>Intermediate Level</td>\n",
       "      <td>2.0</td>\n",
       "      <td>2016-12-13T14:57:18Z</td>\n",
       "      <td>Business Finance</td>\n",
       "    </tr>\n",
       "    <tr>\n",
       "      <th>...</th>\n",
       "      <td>...</td>\n",
       "      <td>...</td>\n",
       "      <td>...</td>\n",
       "      <td>...</td>\n",
       "      <td>...</td>\n",
       "      <td>...</td>\n",
       "      <td>...</td>\n",
       "      <td>...</td>\n",
       "      <td>...</td>\n",
       "      <td>...</td>\n",
       "      <td>...</td>\n",
       "      <td>...</td>\n",
       "    </tr>\n",
       "    <tr>\n",
       "      <th>3673</th>\n",
       "      <td>775618</td>\n",
       "      <td>Learn jQuery from Scratch - Master of JavaScri...</td>\n",
       "      <td>https://www.udemy.com/easy-jquery-for-beginner...</td>\n",
       "      <td>True</td>\n",
       "      <td>100</td>\n",
       "      <td>1040</td>\n",
       "      <td>14</td>\n",
       "      <td>21</td>\n",
       "      <td>All Levels</td>\n",
       "      <td>2.0</td>\n",
       "      <td>2016-06-14T17:36:46Z</td>\n",
       "      <td>Web Development</td>\n",
       "    </tr>\n",
       "    <tr>\n",
       "      <th>3674</th>\n",
       "      <td>1088178</td>\n",
       "      <td>How To Design A WordPress Website With No Codi...</td>\n",
       "      <td>https://www.udemy.com/how-to-make-a-wordpress-...</td>\n",
       "      <td>True</td>\n",
       "      <td>25</td>\n",
       "      <td>306</td>\n",
       "      <td>3</td>\n",
       "      <td>42</td>\n",
       "      <td>Beginner Level</td>\n",
       "      <td>3.5</td>\n",
       "      <td>2017-03-10T22:24:30Z</td>\n",
       "      <td>Web Development</td>\n",
       "    </tr>\n",
       "    <tr>\n",
       "      <th>3675</th>\n",
       "      <td>635248</td>\n",
       "      <td>Learn and Build using Polymer</td>\n",
       "      <td>https://www.udemy.com/learn-and-build-using-po...</td>\n",
       "      <td>True</td>\n",
       "      <td>40</td>\n",
       "      <td>513</td>\n",
       "      <td>169</td>\n",
       "      <td>48</td>\n",
       "      <td>All Levels</td>\n",
       "      <td>3.5</td>\n",
       "      <td>2015-12-30T16:41:42Z</td>\n",
       "      <td>Web Development</td>\n",
       "    </tr>\n",
       "    <tr>\n",
       "      <th>3676</th>\n",
       "      <td>905096</td>\n",
       "      <td>CSS Animations: Create Amazing Effects on Your...</td>\n",
       "      <td>https://www.udemy.com/css-animations-create-am...</td>\n",
       "      <td>True</td>\n",
       "      <td>50</td>\n",
       "      <td>300</td>\n",
       "      <td>31</td>\n",
       "      <td>38</td>\n",
       "      <td>All Levels</td>\n",
       "      <td>3.0</td>\n",
       "      <td>2016-08-11T19:06:15Z</td>\n",
       "      <td>Web Development</td>\n",
       "    </tr>\n",
       "    <tr>\n",
       "      <th>3677</th>\n",
       "      <td>297602</td>\n",
       "      <td>Using MODX CMS to Build Websites: A Beginner's...</td>\n",
       "      <td>https://www.udemy.com/using-modx-cms-to-build-...</td>\n",
       "      <td>True</td>\n",
       "      <td>45</td>\n",
       "      <td>901</td>\n",
       "      <td>36</td>\n",
       "      <td>20</td>\n",
       "      <td>Beginner Level</td>\n",
       "      <td>2.0</td>\n",
       "      <td>2014-09-28T19:51:11Z</td>\n",
       "      <td>Web Development</td>\n",
       "    </tr>\n",
       "  </tbody>\n",
       "</table>\n",
       "<p>3678 rows × 12 columns</p>\n",
       "</div>"
      ],
      "text/plain": [
       "      course_id                                       course_title  \\\n",
       "0       1070968                 Ultimate Investment Banking Course   \n",
       "1       1113822  Complete GST Course & Certification - Grow You...   \n",
       "2       1006314  Financial Modeling for Business Analysts and C...   \n",
       "3       1210588  Beginner to Pro - Financial Analysis in Excel ...   \n",
       "4       1011058       How To Maximize Your Profits Trading Options   \n",
       "...         ...                                                ...   \n",
       "3673     775618  Learn jQuery from Scratch - Master of JavaScri...   \n",
       "3674    1088178  How To Design A WordPress Website With No Codi...   \n",
       "3675     635248                      Learn and Build using Polymer   \n",
       "3676     905096  CSS Animations: Create Amazing Effects on Your...   \n",
       "3677     297602  Using MODX CMS to Build Websites: A Beginner's...   \n",
       "\n",
       "                                                    url  is_paid  price  \\\n",
       "0     https://www.udemy.com/ultimate-investment-bank...     True    200   \n",
       "1         https://www.udemy.com/goods-and-services-tax/     True     75   \n",
       "2     https://www.udemy.com/financial-modeling-for-b...     True     45   \n",
       "3     https://www.udemy.com/complete-excel-finance-c...     True     95   \n",
       "4     https://www.udemy.com/how-to-maximize-your-pro...     True    200   \n",
       "...                                                 ...      ...    ...   \n",
       "3673  https://www.udemy.com/easy-jquery-for-beginner...     True    100   \n",
       "3674  https://www.udemy.com/how-to-make-a-wordpress-...     True     25   \n",
       "3675  https://www.udemy.com/learn-and-build-using-po...     True     40   \n",
       "3676  https://www.udemy.com/css-animations-create-am...     True     50   \n",
       "3677  https://www.udemy.com/using-modx-cms-to-build-...     True     45   \n",
       "\n",
       "      num_subscribers  num_reviews  num_lectures               level  \\\n",
       "0                2147           23            51          All Levels   \n",
       "1                2792          923           274          All Levels   \n",
       "2                2174           74            51  Intermediate Level   \n",
       "3                2451           11            36          All Levels   \n",
       "4                1276           45            26  Intermediate Level   \n",
       "...               ...          ...           ...                 ...   \n",
       "3673             1040           14            21          All Levels   \n",
       "3674              306            3            42      Beginner Level   \n",
       "3675              513          169            48          All Levels   \n",
       "3676              300           31            38          All Levels   \n",
       "3677              901           36            20      Beginner Level   \n",
       "\n",
       "      content_duration   published_timestamp           subject  \n",
       "0                  1.5  2017-01-18T20:58:58Z  Business Finance  \n",
       "1                 39.0  2017-03-09T16:34:20Z  Business Finance  \n",
       "2                  2.5  2016-12-19T19:26:30Z  Business Finance  \n",
       "3                  3.0  2017-05-30T20:07:24Z  Business Finance  \n",
       "4                  2.0  2016-12-13T14:57:18Z  Business Finance  \n",
       "...                ...                   ...               ...  \n",
       "3673               2.0  2016-06-14T17:36:46Z   Web Development  \n",
       "3674               3.5  2017-03-10T22:24:30Z   Web Development  \n",
       "3675               3.5  2015-12-30T16:41:42Z   Web Development  \n",
       "3676               3.0  2016-08-11T19:06:15Z   Web Development  \n",
       "3677               2.0  2014-09-28T19:51:11Z   Web Development  \n",
       "\n",
       "[3678 rows x 12 columns]"
      ]
     },
     "execution_count": 3,
     "metadata": {},
     "output_type": "execute_result"
    }
   ],
   "source": [
    "udemy_data"
   ]
  },
  {
   "cell_type": "code",
   "execution_count": 4,
   "id": "8eb123e9",
   "metadata": {},
   "outputs": [
    {
     "data": {
      "text/plain": [
       "(3678, 12)"
      ]
     },
     "execution_count": 4,
     "metadata": {},
     "output_type": "execute_result"
    }
   ],
   "source": [
    "#number of rows and columns in dataset\n",
    "udemy_data.shape"
   ]
  },
  {
   "cell_type": "code",
   "execution_count": 5,
   "id": "d4eec01d",
   "metadata": {},
   "outputs": [
    {
     "data": {
      "text/plain": [
       "array(['Business Finance', 'Graphic Design', 'Musical Instruments',\n",
       "       'Web Development'], dtype=object)"
      ]
     },
     "execution_count": 5,
     "metadata": {},
     "output_type": "execute_result"
    }
   ],
   "source": [
    "#exploring unique courses tought\n",
    "udemy_data[\"subject\"].unique()"
   ]
  },
  {
   "cell_type": "code",
   "execution_count": 6,
   "id": "5f88476a",
   "metadata": {},
   "outputs": [
    {
     "data": {
      "text/plain": [
       "<AxesSubplot:xlabel='level'>"
      ]
     },
     "execution_count": 6,
     "metadata": {},
     "output_type": "execute_result"
    },
    {
     "data": {
      "image/png": "[encoded data removed]",
      "text/plain": [
       "<Figure size 1080x720 with 1 Axes>"
      ]
     },
     "metadata": {
      "needs_background": "light"
     },
     "output_type": "display_data"
    }
   ],
   "source": [
    "#simple chart to explore relationships in columns\n",
    "udemy_data.plot(x=\"level\", y=\"num_subscribers\", figsize=(15,10))\n"
   ]
  },
  {
   "cell_type": "code",
   "execution_count": 7,
   "id": "2a1d9c76",
   "metadata": {},
   "outputs": [
    {
     "data": {
      "image/png": "[encoded data removed]",
      "text/plain": [
       "<Figure size 432x288 with 1 Axes>"
      ]
     },
     "metadata": {
      "needs_background": "light"
     },
     "output_type": "display_data"
    }
   ],
   "source": [
    "plt.bar(udemy_data[\"subject\"], udemy_data[\"num_subscribers\"], color='green')\n",
    "plt.xlabel(\"Subjects\")\n",
    "plt.ylabel(\"Number of Subscribers\")\n",
    "plt.title(\"Number of Subscribers per Subject taught\")\n",
    "\n",
    "plt.show()"
   ]
  },
  {
   "cell_type": "markdown",
   "id": "536444f2",
   "metadata": {},
   "source": [
    "**Bar Graph to showcase total number of subscribers for each subject category** "
   ]
  },
  {
   "cell_type": "code",
   "execution_count": 8,
   "id": "6e7715da",
   "metadata": {},
   "outputs": [
    {
     "data": {
      "image/png": "[encoded data removed]",
      "text/plain": [
       "<Figure size 720x720 with 1 Axes>"
      ]
     },
     "metadata": {},
     "output_type": "display_data"
    }
   ],
   "source": [
    "with plt.style.context('fivethirtyeight'): # this style is applied ONLY to this plot and not following\n",
    "    fig, ax = plt.subplots(1,1,figsize=(10,10))\n",
    "    ax.bar(udemy_data[\"subject\"],udemy_data[\"num_subscribers\"] )\n",
    "    \n",
    "    ax.set_xlabel(\"Subjects\")\n",
    "    ax.set_ylabel(\"Number of Subscribers\")\n",
    "    ax.set_title(\"Number of Subscribers per Subject taught\")"
   ]
  },
  {
   "cell_type": "code",
   "execution_count": 9,
   "id": "e195f305",
   "metadata": {},
   "outputs": [
    {
     "data": {
      "text/plain": [
       "subject\n",
       "Business Finance       38755\n",
       "Graphic Design         19329\n",
       "Musical Instruments    26055\n",
       "Web Development        63381\n",
       "Name: num_lectures, dtype: int64"
      ]
     },
     "execution_count": 9,
     "metadata": {},
     "output_type": "execute_result"
    }
   ],
   "source": [
    "heat_data = udemy_data.groupby('subject')['num_lectures'].sum()\n",
    "heat_data\n"
   ]
  },
  {
   "cell_type": "markdown",
   "id": "b6b5d2f2",
   "metadata": {},
   "source": [
    "**Data Exploration Dashboard**"
   ]
  },
  {
   "cell_type": "code",
   "execution_count": 10,
   "id": "8ff848f3",
   "metadata": {},
   "outputs": [],
   "source": [
    "##Data Exploration\n",
    "\n",
    "##Dataset View\n",
    "full_data = widgets.Output()\n",
    "full_data.clear_output()\n",
    "with full_data:\n",
    "    print(udemy_data)\n",
    "\n",
    "header_output = widgets.Output()\n",
    "header_output.clear_output()\n",
    "with header_output:\n",
    "    print(udemy_data.head())\n",
    "\n",
    "\n",
    "##Columns of Dataset\n",
    "info_output = widgets.Output()\n",
    "info_output.clear_output()\n",
    "with info_output:\n",
    "    print(udemy_data.info())\n",
    "\n",
    "##Unique Values in Dataset\n",
    "options_dropdown = widgets.Dropdown(options = udemy_data.columns, description = \"Column - \")\n",
    "unique_output = widgets.Output()\n",
    "\n",
    "def options_dropdown_eventhandler(change):\n",
    "  unique_output.clear_output()\n",
    "  ot = udemy_data[change.new].unique()\n",
    "  with unique_output:\n",
    "    display(ot)\n",
    "\n",
    "options_dropdown.observe(options_dropdown_eventhandler, names='value')\n",
    "dashboard_unique = widgets.VBox([options_dropdown, unique_output])\n",
    "\n",
    "##Graph b/w categorical and numeric data\n",
    "graph = widgets.Output()\n",
    "dropdown_c1 = widgets.Dropdown(options = udemy_data[['course_id','course_title','is_paid','level','subject']], description = \"Variable 1\")\n",
    "dropdown_c2 = widgets.Dropdown(options = udemy_data[['num_subscribers','num_reviews', 'num_lectures', 'price','content_duration']], description = \"Variable 2\")\n",
    "\n",
    "def common(x='subject', y = 'num_reviews'):\n",
    "  graph.clear_output()\n",
    "  gf = udemy_data.plot(x=x, y=y, style='o')\n",
    "  with graph:\n",
    "    display(gf)\n",
    "\n",
    "def dropdown_c1_eventhandler(change):\n",
    "    common(change.new, dropdown_c2.value)\n",
    "def dropdown_c2_eventhandler(change):\n",
    "    common(dropdown_c1.value, change.new)\n",
    "\n",
    "dropdown_c1.observe(dropdown_c1_eventhandler, names='value')\n",
    "dropdown_c2.observe(dropdown_c2_eventhandler, names='value')\n",
    "\n",
    "dashboard_graph = widgets.VBox([dropdown_c1, dropdown_c2, graph])"
   ]
  },
  {
   "cell_type": "code",
   "execution_count": 11,
   "id": "9b494971",
   "metadata": {},
   "outputs": [
    {
     "data": {
      "application/vnd.jupyter.widget-view+json": {
       "model_id": "22f6d384f677411c8a67ad68cd8a0be8",
       "version_major": 2,
       "version_minor": 0
      },
      "text/plain": [
       "Tab(children=(Output(outputs=({'output_type': 'stream', 'text': \"      course_id                              …"
      ]
     },
     "metadata": {},
     "output_type": "display_data"
    }
   ],
   "source": [
    "##Dashboard for data exploration\n",
    "tab = widgets.Tab([full_data,header_output, info_output, dashboard_unique, dashboard_graph])\n",
    "tab.set_title(0, 'Dataset')\n",
    "tab.set_title(1, 'Columns of Dataset')\n",
    "tab.set_title(2, 'Data Information')\n",
    "tab.set_title(3, 'Unique values in column')\n",
    "tab.set_title(4, 'Graph: categorical vs numeric')\n",
    "display(tab)\n"
   ]
  },
  {
   "cell_type": "code",
   "execution_count": 12,
   "id": "450c9bb6",
   "metadata": {},
   "outputs": [],
   "source": [
    "# heat1 = udemy_data[['subject', 'num_lectures']]\n",
    "# heat1"
   ]
  },
  {
   "cell_type": "code",
   "execution_count": 13,
   "id": "9b1ef82e",
   "metadata": {},
   "outputs": [
    {
     "data": {
      "text/html": [
       "<div>\n",
       "<style scoped>\n",
       "    .dataframe tbody tr th:only-of-type {\n",
       "        vertical-align: middle;\n",
       "    }\n",
       "\n",
       "    .dataframe tbody tr th {\n",
       "        vertical-align: top;\n",
       "    }\n",
       "\n",
       "    .dataframe thead tr th {\n",
       "        text-align: left;\n",
       "    }\n",
       "\n",
       "    .dataframe thead tr:last-of-type th {\n",
       "        text-align: right;\n",
       "    }\n",
       "</style>\n",
       "<table border=\"1\" class=\"dataframe\">\n",
       "  <thead>\n",
       "    <tr>\n",
       "      <th></th>\n",
       "      <th colspan=\"4\" halign=\"left\">num_reviews</th>\n",
       "    </tr>\n",
       "    <tr>\n",
       "      <th>level</th>\n",
       "      <th>All Levels</th>\n",
       "      <th>Beginner Level</th>\n",
       "      <th>Expert Level</th>\n",
       "      <th>Intermediate Level</th>\n",
       "    </tr>\n",
       "    <tr>\n",
       "      <th>subject</th>\n",
       "      <th></th>\n",
       "      <th></th>\n",
       "      <th></th>\n",
       "      <th></th>\n",
       "    </tr>\n",
       "  </thead>\n",
       "  <tbody>\n",
       "    <tr>\n",
       "      <th>Business Finance</th>\n",
       "      <td>39736</td>\n",
       "      <td>28242</td>\n",
       "      <td>1167</td>\n",
       "      <td>6757</td>\n",
       "    </tr>\n",
       "    <tr>\n",
       "      <th>Graphic Design</th>\n",
       "      <td>19456</td>\n",
       "      <td>15784</td>\n",
       "      <td>57</td>\n",
       "      <td>1773</td>\n",
       "    </tr>\n",
       "    <tr>\n",
       "      <th>Musical Instruments</th>\n",
       "      <td>16787</td>\n",
       "      <td>10347</td>\n",
       "      <td>148</td>\n",
       "      <td>4442</td>\n",
       "    </tr>\n",
       "    <tr>\n",
       "      <th>Web Development</th>\n",
       "      <td>328318</td>\n",
       "      <td>74702</td>\n",
       "      <td>961</td>\n",
       "      <td>26044</td>\n",
       "    </tr>\n",
       "  </tbody>\n",
       "</table>\n",
       "</div>"
      ],
      "text/plain": [
       "                    num_reviews                                               \n",
       "level                All Levels Beginner Level Expert Level Intermediate Level\n",
       "subject                                                                       \n",
       "Business Finance          39736          28242         1167               6757\n",
       "Graphic Design            19456          15784           57               1773\n",
       "Musical Instruments       16787          10347          148               4442\n",
       "Web Development          328318          74702          961              26044"
      ]
     },
     "execution_count": 13,
     "metadata": {},
     "output_type": "execute_result"
    }
   ],
   "source": [
    "#pivot Table\n",
    "total_by_sub = pd.pivot_table(udemy_data, index = [\"subject\"], columns = [\"level\"], values = [\"num_reviews\"], aggfunc= np.sum)\n",
    "\n",
    "total_by_sub"
   ]
  },
  {
   "cell_type": "markdown",
   "id": "e29c2afc",
   "metadata": {},
   "source": [
    "**Interactive Charts Dashboard**"
   ]
  },
  {
   "cell_type": "code",
   "execution_count": 14,
   "id": "e34d5063",
   "metadata": {},
   "outputs": [
    {
     "data": {
      "application/vnd.jupyter.widget-view+json": {
       "model_id": "cde33a8ae49c4cf8887289003a11b037",
       "version_major": 2,
       "version_minor": 0
      },
      "text/plain": [
       "Figure(axes=[ColorAxis(orientation='vertical', scale=ColorScale(scheme='RdPu'), side='right'), Axis(label='Lev…"
      ]
     },
     "metadata": {},
     "output_type": "display_data"
    }
   ],
   "source": [
    "##FINAL\n",
    "##Heat Map\n",
    "# Scales\n",
    "mySelectedLabel = widgets.Label() \n",
    "col_sc = bqplot.ColorScale(scheme = 'RdPu') # like x/y scale, but in \"color space\"\n",
    "x_sc = bqplot.OrdinalScale() # ordered, categorical data, because our bins are more like categorical bins\n",
    "y_sc = bqplot.OrdinalScale()\n",
    "\n",
    "#creating list for the subject to be used as columns of our heat map\n",
    "list_sub = total_by_sub.columns.levels[1].to_list()\n",
    "\n",
    "#Marks\n",
    "heat_map = bqplot.GridHeatMap(color=total_by_sub, scales={'color':col_sc, 'row':y_sc, 'column':x_sc}, \n",
    "row = total_by_sub.index, column = list_sub,\n",
    "                             interactions={'click':'select'},\n",
    "                             anchor_style={'fill':'blue'})\n",
    "color=np.log10(total_by_sub.values)\n",
    "\n",
    "#Axis \n",
    "c_ax = bqplot.ColorAxis(scale=col_sc, orientation='vertical', side='right')\n",
    "x_ax = bqplot.Axis(scale=x_sc, label = 'Level of course')\n",
    "y_ax = bqplot.Axis(scale=y_sc, orientation='vertical', label='subject of course')\n",
    "\n",
    "\n",
    "i,j = 0,0\n",
    "mask = (udemy_data['subject'] == total_by_sub.index[i]) & \\\n",
    "           (udemy_data['level'] == total_by_sub.columns.levels[1][j])\n",
    "# new, subset dataframe\n",
    "udemy_subset = udemy_data[mask]\n",
    "# grab years and sqft from pandas\n",
    "grouped = udemy_subset.groupby(\"subject\")[\"num_reviews\"].sum()\n",
    "price = grouped.index\n",
    "total_lectures = grouped.values\n",
    "def get_data_value(change):\n",
    "    i,j = change['owner'].selected[0]\n",
    "    # grab buildings subset dataframe\n",
    "    mask = (udemy_data['subject'] == total_by_sub.index[i]) & \\\n",
    "           (udemy_data['level'] == total_by_sub.columns.levels[1][j])\n",
    "    udemy_subset = udemy_data[mask]\n",
    "    # grab years and sqft from pandas\n",
    "    grouped = udemy_subset.groupby(\"price\")[\"num_lectures\"].sum()\n",
    "    price = grouped.index\n",
    "    total_lectures = grouped.values\n",
    "    barChart.x = price\n",
    "    barChart.y = total_lectures\n",
    "heat_map.observe(get_data_value, 'selected')\n",
    "barChart = bqplot.Bars(x=price, y=total_lectures, scales={'x':x_sc, 'y':y_sc, 'color': col_sc},color_mode='group', stroke='orange')\n",
    "# finally make a bar plot figure\n",
    "fig_histogram = bqplot.Figure(marks=[barChart], axes=[x_ax,y_ax],title=\"Total number of reviews for selected subject in heat map\")\n",
    "fig_histogram\n",
    "\n",
    "figure_heat_map = bqplot.Figure(marks=[heat_map], axes=[c_ax, x_ax, y_ax], title=\"Sum of Number of Lectures for selected Subject and Level\")\n",
    "figure_heat_map\n"
   ]
  },
  {
   "cell_type": "code",
   "execution_count": 15,
   "id": "3e8c9f47",
   "metadata": {},
   "outputs": [
    {
     "data": {
      "application/vnd.jupyter.widget-view+json": {
       "model_id": "bb5fd8929ac44db3963d7ffcc0e28e38",
       "version_major": 2,
       "version_minor": 0
      },
      "text/plain": [
       "Figure(axes=[Axis(label='Price of Course', scale=LinearScale()), Axis(label='total Lectures for the course', o…"
      ]
     },
     "metadata": {},
     "output_type": "display_data"
    }
   ],
   "source": [
    "##FINAL\n",
    "##Scatter Plot\n",
    "#scales for bar plot plot\n",
    "\n",
    "x_sch = bqplot.LinearScale()\n",
    "y_sch = bqplot.LinearScale()\n",
    "col_sc = bqplot.ColorScale(scheme='Reds')\n",
    "\n",
    "#Axis for bar plot plot\n",
    "x_axh = bqplot.Axis(scale=x_sch, label='Price of Course')\n",
    "y_axh = bqplot.Axis(scale=y_sch, orientation='vertical', label='total Lectures for the course')\n",
    "\n",
    "barChart = bqplot.Scatter(x=price, y=total_lectures, scales={'x':x_sch, 'y':y_sch, 'color': col_sc},color_mode='group', stroke='orange')\n",
    "# finally make a bar plot figure\n",
    "fig_histogram = bqplot.Figure(marks=[barChart], axes=[x_axh,y_axh],title=\"Sum of Number of lectures for selected subject in heat map\")\n",
    "\n",
    "fig_histogram"
   ]
  },
  {
   "cell_type": "code",
   "execution_count": 118,
   "id": "1f9f334c",
   "metadata": {},
   "outputs": [
    {
     "data": {
      "application/vnd.jupyter.widget-view+json": {
       "model_id": "31a049181a964d0699ee7301f33223fe",
       "version_major": 2,
       "version_minor": 0
      },
      "text/plain": [
       "VBox(children=(Label(value=''), VBox(children=(Figure(axes=[ColorAxis(orientation='vertical', scale=ColorScale…"
      ]
     },
     "metadata": {},
     "output_type": "display_data"
    }
   ],
   "source": [
    "##FINAL\n",
    "##Dashboard\n",
    "\n",
    "figure_heat_map.layout.min_width = '500px'\n",
    "fig_histogram.layout.min_width = '500px'\n",
    "# side by side figures\n",
    "figures = widgets.VBox([figure_heat_map, fig_histogram], title='dashbaord')\n",
    "\n",
    "# label on top\n",
    "myDashboard = widgets.VBox([mySelectedLabel, figures]) \n",
    "myDashboard"
   ]
  },
  {
   "cell_type": "code",
   "execution_count": 18,
   "id": "1ac8203f",
   "metadata": {},
   "outputs": [],
   "source": [
    "from ipywidgets import AppLayout, Button"
   ]
  },
  {
   "cell_type": "code",
   "execution_count": 21,
   "id": "83721107",
   "metadata": {},
   "outputs": [
    {
     "data": {
      "application/vnd.jupyter.widget-view+json": {
       "model_id": "fa69158fda0840d6b9979e8ff024946c",
       "version_major": 2,
       "version_minor": 0
      },
      "text/plain": [
       "Box(children=(Box(children=(Label(value='Age of the captain'), IntSlider(value=40, max=60, min=40)), layout=La…"
      ]
     },
     "metadata": {},
     "output_type": "display_data"
    }
   ],
   "source": [
    "from ipywidgets import Layout, Button, Box, FloatText, Textarea, Dropdown, Label, IntSlider\n",
    "\n",
    "form_item_layout = Layout(\n",
    "    display='flex',\n",
    "    flex_flow='row',\n",
    "    justify_content='space-between'\n",
    ")\n",
    "\n",
    "form_items = [\n",
    "    Box([Label(value='Age of the captain'), IntSlider(min=40, max=60)], layout=form_item_layout),\n",
    "    Box([Label(value='Egg style'),\n",
    "         Dropdown(options=['Scrambled', 'Sunny side up', 'Over easy'])], layout=form_item_layout),\n",
    "    Box([Label(value='Ship size'),\n",
    "         FloatText()], layout=form_item_layout),\n",
    "    Box([Label(value='Information'),\n",
    "         Textarea()], layout=form_item_layout)\n",
    "]\n",
    "\n",
    "form = Box(form_items, layout=Layout(\n",
    "    display='flex',\n",
    "    flex_flow='column',\n",
    "    border='solid 2px',\n",
    "    align_items='stretch',\n",
    "    width='50%'\n",
    "))\n",
    "form"
   ]
  },
  {
   "cell_type": "code",
   "execution_count": 119,
   "id": "7b5c1021",
   "metadata": {},
   "outputs": [
    {
     "data": {
      "application/vnd.jupyter.widget-view+json": {
       "model_id": "bfafd694ef814d72af7b9551003552f9",
       "version_major": 2,
       "version_minor": 0
      },
      "text/plain": [
       "GridBox(children=(Button(description='Header', layout=Layout(grid_area='header', width='100%'), style=ButtonSt…"
      ]
     },
     "metadata": {},
     "output_type": "display_data"
    }
   ],
   "source": [
    "from ipywidgets import Button, GridBox, Layout, ButtonStyle\n",
    "header  = Button(description='Header',\n",
    "                 layout=Layout(width='100%', grid_area='header'),\n",
    "                 style=ButtonStyle(button_color='lightblue'))\n",
    "main    = myDashboard\n",
    "\n",
    "main2  = tab\n",
    "\n",
    "GridBox(children=[header, main, main2],\n",
    "        layout=Layout(\n",
    "            width='100%',\n",
    "            grid_template_rows='auto auto',\n",
    "            grid_template_columns='50% 50%',\n",
    "            grid_template_areas='''\n",
    "            \"header header header\"\n",
    "            \"main . main2 \"\n",
    "            \"footer footer footer \"\n",
    "            ''')\n",
    "       )"
   ]
  },
  {
   "cell_type": "code",
   "execution_count": 114,
   "id": "15f695b0",
   "metadata": {},
   "outputs": [
    {
     "ename": "SyntaxError",
     "evalue": "invalid syntax (<ipython-input-114-622a5ff0d974>, line 6)",
     "output_type": "error",
     "traceback": [
      "\u001b[1;36m  File \u001b[1;32m\"<ipython-input-114-622a5ff0d974>\"\u001b[1;36m, line \u001b[1;32m6\u001b[0m\n\u001b[1;33m    , main, main2],\u001b[0m\n\u001b[1;37m    ^\u001b[0m\n\u001b[1;31mSyntaxError\u001b[0m\u001b[1;31m:\u001b[0m invalid syntax\n"
     ]
    }
   ],
   "source": [
    "header  = Button(description='Header',\n",
    "                 layout=Layout(width='100%', grid_area='header'),\n",
    "                 style=ButtonStyle(button_color='lightblue'))\n",
    "GridBox(children=[Button(layout=Layout(width='100%', height='100%'),\n",
    "                         style=ButtonStyle(button_color='darkseagreen')) for i in range(9)\n",
    "                 , main, main2],\n",
    "        layout=Layout(\n",
    "            width='100%',\n",
    "            grid_template_columns='auto auto auto',\n",
    "            grid_template_rows='auto auto auto',\n",
    "            grid_gap='5px 10px'\n",
    "            grid_template_areas='''\n",
    "            \"header header header\"\n",
    "            \"main . main2 \"\n",
    "            \"footer footer footer \"\n",
    "            ''')\n",
    "       )\n",
    "GridBox(children=[header, main, main2],\n",
    "        layout=Layout(\n",
    "            width='100%',\n",
    "            grid_template_rows='auto auto',\n",
    "            grid_template_columns='100% 50%',\n",
    "            grid_template_areas='''\n",
    "            \"header header header\"\n",
    "            \"main . main2 \"\n",
    "            \"footer footer footer \"\n",
    "            ''')\n",
    "       )"
   ]
  },
  {
   "cell_type": "code",
   "execution_count": 39,
   "id": "145dd44d",
   "metadata": {},
   "outputs": [
    {
     "data": {
      "application/vnd.jupyter.widget-view+json": {
       "model_id": "8947c6a6a1ad4e498c4ded3402c4973f",
       "version_major": 2,
       "version_minor": 0
      },
      "text/plain": [
       "GridBox(children=(VBox(children=(Label(value=''), HBox(children=(Figure(axes=[ColorAxis(orientation='vertical'…"
      ]
     },
     "metadata": {},
     "output_type": "display_data"
    }
   ],
   "source": [
    "GridBox(children=[myDashboard],\n",
    "        layout=Layout(\n",
    "            width='100%',\n",
    "            grid_template_columns='500px 500px 700px',\n",
    "            grid_template_rows='500px 500px 700px',\n",
    "            grid_gap='100px 10px')\n",
    "       )"
   ]
  },
  {
   "cell_type": "code",
   "execution_count": 95,
   "id": "13bd0dba",
   "metadata": {},
   "outputs": [
    {
     "ename": "AttributeError",
     "evalue": "module 'matplotlib.pyplot' has no attribute 'myDashboard'",
     "output_type": "error",
     "traceback": [
      "\u001b[1;31m---------------------------------------------------------------------------\u001b[0m",
      "\u001b[1;31mAttributeError\u001b[0m                            Traceback (most recent call last)",
      "\u001b[1;32m<ipython-input-95-43c4d9f84369>\u001b[0m in \u001b[0;36m<module>\u001b[1;34m\u001b[0m\n\u001b[0;32m      3\u001b[0m \u001b[1;32mimport\u001b[0m \u001b[0mnumpy\u001b[0m \u001b[1;32mas\u001b[0m \u001b[0mnp\u001b[0m\u001b[1;33m\u001b[0m\u001b[1;33m\u001b[0m\u001b[0m\n\u001b[0;32m      4\u001b[0m \u001b[1;33m\u001b[0m\u001b[0m\n\u001b[1;32m----> 5\u001b[1;33m \u001b[0mfig\u001b[0m \u001b[1;33m=\u001b[0m \u001b[0mplt\u001b[0m\u001b[1;33m.\u001b[0m\u001b[0mmyDashboard\u001b[0m\u001b[1;33m(\u001b[0m\u001b[0mfigsize\u001b[0m\u001b[1;33m=\u001b[0m\u001b[1;33m(\u001b[0m\u001b[1;36m10\u001b[0m\u001b[1;33m,\u001b[0m \u001b[1;36m5\u001b[0m\u001b[1;33m)\u001b[0m\u001b[1;33m)\u001b[0m\u001b[1;33m\u001b[0m\u001b[1;33m\u001b[0m\u001b[0m\n\u001b[0m\u001b[0;32m      6\u001b[0m \u001b[0mgs\u001b[0m \u001b[1;33m=\u001b[0m \u001b[0mGridSpec\u001b[0m\u001b[1;33m(\u001b[0m\u001b[0mnrows\u001b[0m\u001b[1;33m=\u001b[0m\u001b[1;36m2\u001b[0m\u001b[1;33m,\u001b[0m \u001b[0mncols\u001b[0m\u001b[1;33m=\u001b[0m\u001b[1;36m2\u001b[0m\u001b[1;33m)\u001b[0m\u001b[1;33m\u001b[0m\u001b[1;33m\u001b[0m\u001b[0m\n\u001b[0;32m      7\u001b[0m \u001b[0max0\u001b[0m \u001b[1;33m=\u001b[0m \u001b[0mfig\u001b[0m\u001b[1;33m.\u001b[0m\u001b[0madd_subplot\u001b[0m\u001b[1;33m(\u001b[0m\u001b[0mgs\u001b[0m\u001b[1;33m[\u001b[0m\u001b[1;36m0\u001b[0m\u001b[1;33m,\u001b[0m \u001b[1;36m0\u001b[0m\u001b[1;33m]\u001b[0m\u001b[1;33m)\u001b[0m\u001b[1;33m\u001b[0m\u001b[1;33m\u001b[0m\u001b[0m\n",
      "\u001b[1;31mAttributeError\u001b[0m: module 'matplotlib.pyplot' has no attribute 'myDashboard'"
     ]
    }
   ],
   "source": []
  },
  {
   "cell_type": "markdown",
   "id": "2970faa8",
   "metadata": {},
   "source": [
    "**Writeup**"
   ]
  },
  {
   "cell_type": "markdown",
   "id": "cf0ba054",
   "metadata": {},
   "source": [
    "The data represents the information about the various courses taught by Udemy which is an online learning and teaching marketplace. It gives larger picture of what subjects or industry Udemy has most courses and there subscribers, course_id etc.\n",
    "I have created mainly two views in my dashboard.\n",
    "\n",
    "Data Exploration View-\n",
    "\n",
    "First one uses Tab Widget that takes list of widgets and places tabs for each one of them.\n",
    "I have referred to this source because I learned broader use of tabs and it was helpful to give understanding of data. https://code-ml.com/index.php/2021/05/22/introduction-to-widgets-in-jupyter-notebook-build-your-own-pandas-profiler/\n",
    "First tab shows full dataset.\n",
    "Second tab shows the header that is columns of dataset.\n",
    "Third tab shows data type of each column in the dataset.\n",
    "Fourth Tab shows Unique Value of the selected variable in the dataset\n",
    "Fifth Tab makes graph between the two variables selected by user. I have Stored categorical data in Varibale 1 and Numeric Data in Variable 2 so that the Scatter plot gets plotted and there is clear understanding for tpart e user.\n",
    "\n",
    "Interactive Chart View-\n",
    "\n",
    "The second View that I have created is a Heat Map that allows user to choose specific subject and level of course combination, on basis of which the Scatter Plot will be plotted. The Scatter plot shows total number of reviews V/s price of course for the combination selected in the Heat Map.\n",
    "\n",
    "Apart from these views I have created some charts such as Bar plot to show total number of lectures for specific subject, Scatter plot to show relationship between content duration and number of lectures.\n"
   ]
  },
  {
   "cell_type": "markdown",
   "id": "f39bc6cb",
   "metadata": {},
   "source": [
    "Contextual Dataset-\n",
    "As this dataset is related to online study platform company, I found another dataset of Coursera that explores the courses availabe in Coursera, thier title, their level of difficulty etc.\n",
    "This dataset can then be used to create views for similar qualities like udemy_data so that I can show some comparision between both companies and thier performance.\n",
    "Dataset - https://www.kaggle.com/siddharthm1698/coursera-course-dataset"
   ]
  },
  {
   "cell_type": "code",
   "execution_count": 26,
   "id": "e76e1ad7",
   "metadata": {},
   "outputs": [
    {
     "name": "stderr",
     "output_type": "stream",
     "text": [
      "C:\\Users\\aashi\\anaconda3\\lib\\site-packages\\pandas\\core\\arraylike.py:358: RuntimeWarning: divide by zero encountered in log10\n",
      "  result = getattr(ufunc, method)(*inputs, **kwargs)\n"
     ]
    },
    {
     "data": {
      "application/vnd.jupyter.widget-view+json": {
       "model_id": "f87a6f29dae84e7e93c4cb2a3364fc7f",
       "version_major": 2,
       "version_minor": 0
      },
      "text/plain": [
       "Figure(axes=[Axis(label='content_duration', scale=LinearScale()), Axis(label='num_lectures', orientation='vert…"
      ]
     },
     "metadata": {},
     "output_type": "display_data"
    }
   ],
   "source": [
    "#Scatter Plot Extra\n",
    "x_sc = bqplot.LinearScale()\n",
    "y_sc = bqplot.LinearScale()\n",
    "\n",
    "x_ax = bqplot.Axis(scale = x_sc, label='content_duration')\n",
    "y_ax = bqplot.Axis(scale = y_sc, \n",
    "                   orientation = 'vertical', \n",
    "                   label='num_lectures')\n",
    "\n",
    "\n",
    "c_sc = bqplot.ColorScale() # color scale\n",
    "\n",
    "c_ax = bqplot.ColorAxis(scale = c_sc, label='log(sec)', \n",
    "                        orientation = 'vertical', side = 'right')\n",
    "scatters = bqplot.Scatter(x = udemy_data['content_duration'],\n",
    "                          y = udemy_data['num_lectures'],\n",
    "                          color=np.log10(udemy_data['num_reviews']), # here we take log, base 10\n",
    "                          scales = {'x': x_sc, 'y': y_sc, 'color':c_sc})\n",
    "\n",
    "fig = bqplot.Figure(marks = [scatters], axes = [x_ax, y_ax, c_ax]) \n",
    "fig"
   ]
  },
  {
   "cell_type": "code",
   "execution_count": 27,
   "id": "5049d73a",
   "metadata": {},
   "outputs": [
    {
     "data": {
      "application/vnd.jupyter.widget-view+json": {
       "model_id": "a620ef4af1644632a3c49518ce7cc782",
       "version_major": 2,
       "version_minor": 0
      },
      "text/plain": [
       "Figure(axes=[ColorAxis(orientation='vertical', scale=ColorScale(scheme='RdPu'), side='right'), Axis(label='Cou…"
      ]
     },
     "metadata": {},
     "output_type": "display_data"
    }
   ],
   "source": [
    "#Extra\n",
    "#Unable to put Unique value in x-axis\n",
    "# Scales\n",
    "col_sc = bqplot.ColorScale(scheme = 'RdPu') # like x/y scale, but in \"color space\"\n",
    "x_sc = bqplot.OrdinalScale() # ordered, categorical data, because our bins are more like categorical bins\n",
    "y_sc = bqplot.OrdinalScale()\n",
    "\n",
    "#creating list for the agency to be used as columns of our heat map\n",
    "list_a = total_by_sub.columns.levels[1].to_list()\n",
    "\n",
    "#Marks\n",
    "heat_map = bqplot.GridHeatMap(color=total_by_sub, scales={'color':col_sc, 'row':y_sc, 'column':x_sc}, \n",
    "row = total_by_sub.index, column = list_a,\n",
    "                             interactions={'click':'select'},\n",
    "                             anchor_style={'fill':'blue'})\n",
    "color=np.log10(total_by_sub.values)\n",
    "\n",
    "#Axis \n",
    "c_ax = bqplot.ColorAxis(scale=col_sc, orientation='vertical', side='right')\n",
    "x_ax = bqplot.Axis(scale=x_sc, label = 'County')\n",
    "y_ax = bqplot.Axis(scale=y_sc, orientation='vertical')\n",
    "\n",
    "\n",
    "i,j = 0,0\n",
    "mask = (udemy_data['subject'] == total_by_sub.index[i]) & \\\n",
    "           (udemy_data['level'] == total_by_sub.columns.levels[1][j])\n",
    "# new, subset dataframe\n",
    "subset = udemy_data[mask]\n",
    "# grab years and sqft from pandas\n",
    "grouped = udemy_data.groupby(\"subject\")[\"num_reviews\"].sum()\n",
    "sub = grouped.index\n",
    "reviews = grouped.values\n",
    "def get_data_value(change):\n",
    "    i,j = change['owner'].selected[0]\n",
    "    # grab buildings subset dataframe\n",
    "    mask = (udemy_data['subject'] == total_by_sub.index[i]) & \\\n",
    "           (udemy_data['num_reviews'] == total_by_sub.columns.levels[1][j])\n",
    "    buildings_subset = udemy_data[mask]\n",
    "    # grab years and sqft from pandas\n",
    "    grouped = subset.groupby(\"subject\")[\"num_reviews\"].sum()\n",
    "    sub = grouped.index\n",
    "    reviews = grouped.values\n",
    "    barChart.x = sub\n",
    "    barChart.y = reviews\n",
    "heat_map.observe(get_data_value, 'selected')\n",
    "barChart = bqplot.Bars(x=sub, y=reviews, scales={'x':x_sc, 'y':y_sc, 'color': col_sc},color_mode='group', stroke='orange')\n",
    "# finally make a bar plot figure\n",
    "fig_histogram = bqplot.Figure(marks=[barChart], axes=[x_ax,y_ax],title=\"Total Square Footage acquired for the year selected in heat map\")\n",
    "fig_histogram\n",
    "\n",
    "figure_heat_map = bqplot.Figure(marks=[heat_map], axes=[c_ax, x_ax, y_ax], title=\"Mean of total square footage for selected Agency Name and County\")\n",
    "figure_heat_map"
   ]
  },
  {
   "cell_type": "code",
   "execution_count": 29,
   "id": "bba6b068",
   "metadata": {},
   "outputs": [
    {
     "data": {
      "text/plain": [
       "'0.12.30'"
      ]
     },
     "execution_count": 29,
     "metadata": {},
     "output_type": "execute_result"
    }
   ],
   "source": [
    "bqplot.__version__\n"
   ]
  },
  {
   "cell_type": "code",
   "execution_count": 30,
   "id": "bd24f45c",
   "metadata": {},
   "outputs": [],
   "source": [
    "# def create_scatter(feature1, feature2):\n",
    "#     fig = plt.figure(title=\"%s vs %s Relation\"%(feature1.capitalize(), feature2.capitalize()))\n",
    "\n",
    "#     scat = plt.scatter(x=udemy_data['subject'],\n",
    "#                        y=udemy_data['num_reviews'],\n",
    "#                        color=udemy_data['subject'],\n",
    "#                       )\n",
    "\n",
    "#     plt.xlabel(feature1.capitalize())\n",
    "#     plt.ylabel(feature2.capitalize())\n",
    "\n",
    "#     plt.show()"
   ]
  },
  {
   "cell_type": "code",
   "execution_count": 31,
   "id": "3c4297d0",
   "metadata": {},
   "outputs": [],
   "source": [
    "# widgets.interact(create_scatter, feature1=udemy_data.iloc[:,10], feature2=udemy_data.iloc[:,10]);\n"
   ]
  },
  {
   "cell_type": "code",
   "execution_count": 32,
   "id": "59a9bc11",
   "metadata": {},
   "outputs": [],
   "source": [
    "# c_slider = widgets.IntSlider(min=0, max=len(udemy_data), step=1, value=5)\n",
    "# d_select =  widgets.Select(options=udemy_data['is_paid'].unique())\n",
    " \n",
    "# def update_c_range(*args):\n",
    "#     if d_select.value=='All':\n",
    "#         c_slider.max = len(udemy_data)\n",
    "#     else:\n",
    "#         c_slider.max = len(udemy_data[udemy_data['num_reviews']==d_select.value])\n",
    " \n",
    "# d_select.observe(update_c_range, 'value')\n",
    " \n",
    "# def view3(course_is_paid='',num_reviews=''):\n",
    "#     if course_is_paid=='All': return udemy_data.head(y)\n",
    "#     return udemy_data[udemy_data['num_reviews']==course_is_paid].head(num_reviews)\n",
    " \n",
    "# widgets.interactive(view3,num_reviews=c_slider,course_is_paid=d_select)"
   ]
  },
  {
   "cell_type": "code",
   "execution_count": 33,
   "id": "8a0d318c",
   "metadata": {},
   "outputs": [],
   "source": [
    "# udemy_data"
   ]
  },
  {
   "cell_type": "code",
   "execution_count": null,
   "id": "5dd6bcd7",
   "metadata": {},
   "outputs": [],
   "source": []
  },
  {
   "cell_type": "code",
   "execution_count": null,
   "id": "34008aee",
   "metadata": {},
   "outputs": [],
   "source": []
  }
 ],
 "metadata": {
  "kernelspec": {
   "display_name": "Python 3",
   "language": "python",
   "name": "python3"
  },
  "language_info": {
   "codemirror_mode": {
    "name": "ipython",
    "version": 3
   },
   "file_extension": ".py",
   "mimetype": "text/x-python",
   "name": "python",
   "nbconvert_exporter": "python",
   "pygments_lexer": "ipython3",
   "version": "3.8.8"
  }
 },
 "nbformat": 4,
 "nbformat_minor": 5
}
